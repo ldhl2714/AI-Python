{
  "nbformat": 4,
  "nbformat_minor": 0,
  "metadata": {
    "colab": {
      "provenance": [],
      "authorship_tag": "ABX9TyMarXouVIjvaAsqf4Gqma52",
      "include_colab_link": true
    },
    "kernelspec": {
      "name": "python3",
      "display_name": "Python 3"
    },
    "language_info": {
      "name": "python"
    }
  },
  "cells": [
    {
      "cell_type": "markdown",
      "metadata": {
        "id": "view-in-github",
        "colab_type": "text"
      },
      "source": [
        "<a href=\"https://colab.research.google.com/github/ldhl2714/AI-Python/blob/main/210105.ipynb\" target=\"_parent\"><img src=\"https://colab.research.google.com/assets/colab-badge.svg\" alt=\"Open In Colab\"/></a>"
      ]
    },
    {
      "cell_type": "code",
      "source": [
        "data = \"John,30,Engineer\\nAlice,25,Designer\\nBob,22,Artist\"\n",
        "lines = data.split(\"\\n\")\n",
        "\n",
        "for line in lines:\n",
        "  field = line.split(\",\")\n",
        "  print(\"Name:\", field[0],\"Age:\", field[1],\"Occupation:\",field[2])"
      ],
      "metadata": {
        "id": "w5CZsw6-aspu",
        "colab": {
          "base_uri": "https://localhost:8080/"
        },
        "outputId": "0551c637-6b9e-4862-dea0-fe1e36eff43f"
      },
      "execution_count": null,
      "outputs": [
        {
          "output_type": "stream",
          "name": "stdout",
          "text": [
            "Name: John Age: 30 Occupation: Engineer\n",
            "Name: Alice Age: 25 Occupation: Designer\n",
            "Name: Bob Age: 22 Occupation: Artist\n"
          ]
        }
      ]
    },
    {
      "cell_type": "code",
      "source": [
        "data = 'Geeks for Geeks'\n",
        "data_s=data.split(' ')\n",
        "data_j='-'.join(data_s)\n",
        "\n",
        "print(data_s)\n",
        "print(data_j)"
      ],
      "metadata": {
        "colab": {
          "base_uri": "https://localhost:8080/"
        },
        "id": "NqUd8MTAPRPc",
        "outputId": "a1ee9b2d-1f69-43fe-e193-4a7fdbc2098f"
      },
      "execution_count": null,
      "outputs": [
        {
          "output_type": "stream",
          "name": "stdout",
          "text": [
            "['Geeks', 'for', 'Geeks']\n",
            "Geeks-for-Geeks\n"
          ]
        }
      ]
    },
    {
      "cell_type": "code",
      "source": [
        "data = [1, 2, 3, 4, 5]\n",
        "squares = [x**2 for x in data if x%2 == 0]\n",
        "print(squares)"
      ],
      "metadata": {
        "colab": {
          "base_uri": "https://localhost:8080/"
        },
        "id": "dk0Bji20QKr8",
        "outputId": "36e5938e-e9f9-4ce1-f2a7-52c072ea0e86"
      },
      "execution_count": null,
      "outputs": [
        {
          "output_type": "stream",
          "name": "stdout",
          "text": [
            "[4, 16]\n"
          ]
        }
      ]
    },
    {
      "cell_type": "code",
      "source": [
        "squares3 = [x**2 for x in range(21) if x%3==0]\n",
        "print(squares3)"
      ],
      "metadata": {
        "colab": {
          "base_uri": "https://localhost:8080/"
        },
        "id": "1BbKIfCGTYDV",
        "outputId": "9793207c-2967-4eb7-c86e-0c81d8b4bed6"
      },
      "execution_count": null,
      "outputs": [
        {
          "output_type": "stream",
          "name": "stdout",
          "text": [
            "[0, 9, 36, 81, 144, 225, 324]\n"
          ]
        }
      ]
    },
    {
      "cell_type": "code",
      "source": [
        "data = [\"Seoul\", \"New York\", \"London\", \"Shanghai\", \"Paris\", \"Tokyo\"]\n",
        "word = [x for x in data if 'S' in x]\n",
        "print(word)"
      ],
      "metadata": {
        "id": "K-_CcKDSRXFU",
        "colab": {
          "base_uri": "https://localhost:8080/"
        },
        "outputId": "aee8eb79-d68a-4aae-a294-6cfd1f465a6b"
      },
      "execution_count": null,
      "outputs": [
        {
          "output_type": "stream",
          "name": "stdout",
          "text": [
            "['Seoul', 'Shanghai']\n"
          ]
        }
      ]
    },
    {
      "cell_type": "code",
      "source": [
        "fruits = ['apple','banana', 'cherry']\n",
        "for index, fruit in enumerate(fruits):\n",
        "  print(index,fruit)"
      ],
      "metadata": {
        "id": "KV3i5UMySl7F",
        "colab": {
          "base_uri": "https://localhost:8080/"
        },
        "outputId": "792b4bfd-59a0-45ea-a9df-6f89391b124f"
      },
      "execution_count": null,
      "outputs": [
        {
          "output_type": "stream",
          "name": "stdout",
          "text": [
            "0 apple\n",
            "1 banana\n",
            "2 cherry\n"
          ]
        }
      ]
    },
    {
      "cell_type": "code",
      "source": [
        "data=['a','b','c']\n",
        "for index, name in enumerate(data):\n",
        "  print('fruit',index,'name is',name)"
      ],
      "metadata": {
        "colab": {
          "base_uri": "https://localhost:8080/"
        },
        "id": "r-hgpjXiWPhV",
        "outputId": "e1b9b6ae-e601-48d3-97e5-90601b4d6b1f"
      },
      "execution_count": null,
      "outputs": [
        {
          "output_type": "stream",
          "name": "stdout",
          "text": [
            "fruit 0 name is a\n",
            "fruit 1 name is b\n",
            "fruit 2 name is c\n"
          ]
        }
      ]
    },
    {
      "cell_type": "code",
      "source": [
        "data=['a','b','c']\n",
        "for name in range (3):\n",
        "  print('fruit',name,'name is',data[name])"
      ],
      "metadata": {
        "colab": {
          "base_uri": "https://localhost:8080/"
        },
        "id": "A5XvMzyWWv29",
        "outputId": "1611753e-62a9-4e8b-8e02-88d1ff73b391"
      },
      "execution_count": null,
      "outputs": [
        {
          "output_type": "stream",
          "name": "stdout",
          "text": [
            "fruit 0 name is a\n",
            "fruit 1 name is b\n",
            "fruit 2 name is c\n"
          ]
        }
      ]
    },
    {
      "cell_type": "code",
      "source": [
        "names = ['M','N','S','A']\n",
        "roll_no = [4,1,3,2]\n",
        "name_roll=dict(zip(names,roll_no))\n",
        "print(name_roll)\n"
      ],
      "metadata": {
        "colab": {
          "base_uri": "https://localhost:8080/"
        },
        "id": "s-otQeM8XDi1",
        "outputId": "fa779d43-8918-4b57-ad28-630decf8e1e5"
      },
      "execution_count": null,
      "outputs": [
        {
          "output_type": "stream",
          "name": "stdout",
          "text": [
            "{'M': 4, 'N': 1, 'S': 3, 'A': 2}\n"
          ]
        }
      ]
    },
    {
      "cell_type": "code",
      "source": [
        "names=['M','R','C']\n",
        "ages=[24,50,18]\n",
        "for name, age in enumerate(zip(names,ages)):\n",
        "  print(f\"{name} {age}\")"
      ],
      "metadata": {
        "colab": {
          "base_uri": "https://localhost:8080/"
        },
        "id": "Xx2vks16adIt",
        "outputId": "9a7ead4d-b0cc-4245-a80a-6d43c28dec6a"
      },
      "execution_count": null,
      "outputs": [
        {
          "output_type": "stream",
          "name": "stdout",
          "text": [
            "0 ('M', 24)\n",
            "1 ('R', 50)\n",
            "2 ('C', 18)\n"
          ]
        }
      ]
    },
    {
      "cell_type": "code",
      "source": [
        "add=lambda x,y: x+y\n",
        "print(add(5,5))"
      ],
      "metadata": {
        "colab": {
          "base_uri": "https://localhost:8080/"
        },
        "id": "2XSx3gIabP32",
        "outputId": "d028ce6e-fd90-4c5b-83e7-0a2d1d291798"
      },
      "execution_count": null,
      "outputs": [
        {
          "output_type": "stream",
          "name": "stdout",
          "text": [
            "10\n"
          ]
        }
      ]
    },
    {
      "cell_type": "code",
      "source": [
        "a,b,c=map(int,input().split())\n",
        "num=[a,b,c]\n",
        "num=sorted(num)\n",
        "if a==b or b==c or a==c:\n",
        "  print ('wrong value')\n",
        "else:\n",
        "  print(num[2], num[1], num[0])"
      ],
      "metadata": {
        "colab": {
          "base_uri": "https://localhost:8080/"
        },
        "id": "rC2-WnGxj4NG",
        "outputId": "3919dba8-127d-4c97-baf7-da14fd517da7"
      },
      "execution_count": 1,
      "outputs": [
        {
          "output_type": "stream",
          "name": "stdout",
          "text": [
            "2 8 2\n",
            "wrong value\n"
          ]
        }
      ]
    },
    {
      "cell_type": "code",
      "source": [
        "sec=int(input())\n",
        "hour=sec//3600\n",
        "min=(sec%3600)//60\n",
        "sec=(sec%3600)%60\n",
        "\n",
        "print(hour,'시',min,'분',sec,'초')"
      ],
      "metadata": {
        "colab": {
          "base_uri": "https://localhost:8080/"
        },
        "id": "NVvz_knjj6UG",
        "outputId": "59307c4b-3139-4c72-a4b1-8bae2cf92488"
      },
      "execution_count": 2,
      "outputs": [
        {
          "output_type": "stream",
          "name": "stdout",
          "text": [
            "11730\n",
            "3 시 15 분 30 초\n"
          ]
        }
      ]
    }
  ]
}