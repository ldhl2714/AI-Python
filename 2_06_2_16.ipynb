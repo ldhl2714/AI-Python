{
  "nbformat": 4,
  "nbformat_minor": 0,
  "metadata": {
    "colab": {
      "provenance": [],
      "authorship_tag": "ABX9TyPyiLaQhf2zX54+kmbCFXBQ",
      "include_colab_link": true
    },
    "kernelspec": {
      "name": "python3",
      "display_name": "Python 3"
    },
    "language_info": {
      "name": "python"
    }
  },
  "cells": [
    {
      "cell_type": "markdown",
      "metadata": {
        "id": "view-in-github",
        "colab_type": "text"
      },
      "source": [
        "<a href=\"https://colab.research.google.com/github/ldhl2714/AI-Python/blob/main/2_06_2_16.ipynb\" target=\"_parent\"><img src=\"https://colab.research.google.com/assets/colab-badge.svg\" alt=\"Open In Colab\"/></a>"
      ]
    },
    {
      "cell_type": "code",
      "execution_count": 4,
      "metadata": {
        "colab": {
          "base_uri": "https://localhost:8080/"
        },
        "id": "jHFD7IWEB9E6",
        "outputId": "0d2524e3-67f7-4051-ef9d-d4185fb210fd"
      },
      "outputs": [
        {
          "output_type": "stream",
          "name": "stdout",
          "text": [
            "우리가 수업하는 실습실:\n",
            "105\n"
          ]
        }
      ],
      "source": [
        "#2.6 변수 활용\n",
        "Lab=105\n",
        "print('우리가 수업하는 실습실:')\n",
        "print(Lab)"
      ]
    },
    {
      "cell_type": "code",
      "source": [
        "#2.7 변수활용\n",
        "Lab=105\n",
        "print('우리가 수업하는 실습실: ',Lab)"
      ],
      "metadata": {
        "colab": {
          "base_uri": "https://localhost:8080/"
        },
        "id": "nBSj5etZCZGW",
        "outputId": "7ded2766-debb-4055-e1e3-e2c70bbe7dbe"
      },
      "execution_count": 2,
      "outputs": [
        {
          "output_type": "stream",
          "name": "stdout",
          "text": [
            "우리가 수업하는 실습실:  105\n"
          ]
        }
      ]
    },
    {
      "cell_type": "code",
      "source": [
        "#2.8 변수 두 개 활용\n",
        "my_id = 20150001\n",
        "grade = 1\n",
        "\n",
        "print('나의 학번: ')\n",
        "print(my_id)\n",
        "print('학년: ')\n",
        "print(grade)"
      ],
      "metadata": {
        "colab": {
          "base_uri": "https://localhost:8080/"
        },
        "id": "ACXzal0FCgSP",
        "outputId": "67b5a989-37ee-47d5-b2b8-620f315bbd76"
      },
      "execution_count": 3,
      "outputs": [
        {
          "output_type": "stream",
          "name": "stdout",
          "text": [
            "나의 학번: \n",
            "20150001\n",
            "학년: \n",
            "1\n"
          ]
        }
      ]
    },
    {
      "cell_type": "code",
      "source": [
        "#2.9 변 수 값 할당 및 출력\n",
        "dollars = 2.75\n",
        "print('I have',dollars,'in my account.')\n",
        "\n",
        "dollars = 99.95\n",
        "print('But now I have', dollars,'in my account!')"
      ],
      "metadata": {
        "colab": {
          "base_uri": "https://localhost:8080/"
        },
        "id": "DnroS6bpC57e",
        "outputId": "0f89096d-53c6-4e4e-dc7a-008c769b835d"
      },
      "execution_count": 5,
      "outputs": [
        {
          "output_type": "stream",
          "name": "stdout",
          "text": [
            "I have 2.75 in my account.\n",
            "But now I have 99.95 in my account!\n"
          ]
        }
      ]
    },
    {
      "cell_type": "code",
      "source": [
        "#2.10  두 문자열 변수\n",
        "department = '국어국문학과'\n",
        "name = '홍길동'\n",
        "\n",
        "print(department, name)"
      ],
      "metadata": {
        "colab": {
          "base_uri": "https://localhost:8080/"
        },
        "id": "padk06GvEYyf",
        "outputId": "60aa9871-55d4-46d0-abc5-687403a01de9"
      },
      "execution_count": 6,
      "outputs": [
        {
          "output_type": "stream",
          "name": "stdout",
          "text": [
            "국어국문학과 홍길동\n"
          ]
        }
      ]
    },
    {
      "cell_type": "code",
      "source": [
        "#2.11\n",
        "department = input('학과명: ')\n",
        "name = input('성명: ')\n",
        "\n",
        "print('안녕하세요', department, name)"
      ],
      "metadata": {
        "colab": {
          "base_uri": "https://localhost:8080/"
        },
        "id": "G47K-juvEqba",
        "outputId": "ec591b79-3ec9-4929-9d48-142df4654da7"
      },
      "execution_count": 16,
      "outputs": [
        {
          "output_type": "stream",
          "name": "stdout",
          "text": [
            "학과명: 국어국문학과\n",
            "성명: 홍길동\n",
            "안녕하세요 국어국문학과 홍길동\n"
          ]
        }
      ]
    },
    {
      "cell_type": "code",
      "source": [
        "#2.12\n",
        "name = input('당신의 이름은 무엇입니까?')\n",
        "age = int(input('나이는 어떻게 되시나요?'))\n",
        "attending_time = float(input('통학시간은 얼마나 걸립니까?'))\n",
        "\n",
        "print('입력 정보는 다음과 같습니다.')\n",
        "print('이름:',name)\n",
        "print('나이:',age)\n",
        "print('통학시간:', attending_time)"
      ],
      "metadata": {
        "colab": {
          "base_uri": "https://localhost:8080/"
        },
        "id": "7hQpxyJ5FDVh",
        "outputId": "2683a265-53b2-4ba5-ffcd-91608da9fea0"
      },
      "execution_count": 15,
      "outputs": [
        {
          "output_type": "stream",
          "name": "stdout",
          "text": [
            "당신의 이름은 무엇입니까?홍길동\n",
            "나이는 어떻게 되시나요?20\n",
            "통학시간은 얼마나 걸립니까?2\n",
            "입력 정보는 다음과 같습니다.\n",
            "이름: 홍길동\n",
            "나이: 20\n",
            "통학시간: 2.0\n"
          ]
        }
      ]
    },
    {
      "cell_type": "code",
      "source": [
        "#2.13\n",
        "salary = 2500.0\n",
        "bonus = 1200.0\n",
        "pay = salary + bonus\n",
        "\n",
        "print('총 급여: ',pay)"
      ],
      "metadata": {
        "colab": {
          "base_uri": "https://localhost:8080/"
        },
        "id": "Rr25bNlKGDc3",
        "outputId": "d7ddb143-6120-4ab9-b63d-f0264b322cc4"
      },
      "execution_count": 11,
      "outputs": [
        {
          "output_type": "stream",
          "name": "stdout",
          "text": [
            "총 급여:  3700.0\n"
          ]
        }
      ]
    },
    {
      "cell_type": "code",
      "source": [
        "#2.14\n",
        "o_price = float(input(\"제품의 원가를 입력해주세요:\"))\n",
        "discount = o_price * 0.2\n",
        "s_price = o_price - discount\n",
        "\n",
        "print('할인가격: ',s_price)"
      ],
      "metadata": {
        "colab": {
          "base_uri": "https://localhost:8080/"
        },
        "id": "sV3N43k6Ggbx",
        "outputId": "981680b9-1548-411c-88bd-7cdb1868a0ae"
      },
      "execution_count": 12,
      "outputs": [
        {
          "output_type": "stream",
          "name": "stdout",
          "text": [
            "제품의 원가를 입력해주세요:1000\n",
            "할인가격:  800.0\n"
          ]
        }
      ]
    },
    {
      "cell_type": "code",
      "source": [
        "#2.15\n",
        "test1 = float(input(' 첫 번째 과목 점수를 입력해주세요. '))\n",
        "test2 = float(input(' 두 번째 과목 점수를 입력해주세요. '))\n",
        "test3 = float(input(' 세 번째 과목 점수를 입력해주세요. '))\n",
        "average = (test1 + test2 + test3) / 3.0\n",
        "\n",
        "print('세 과목의 평균 점수:',average)"
      ],
      "metadata": {
        "colab": {
          "base_uri": "https://localhost:8080/"
        },
        "id": "Ncx7-uEIHAkx",
        "outputId": "725653df-9916-4a7c-dba1-0930b376ceaa"
      },
      "execution_count": 13,
      "outputs": [
        {
          "output_type": "stream",
          "name": "stdout",
          "text": [
            " 첫 번째 과목 점수를 입력해주세요. 90\n",
            " 두 번째 과목 점수를 입력해주세요. 80\n",
            " 세 번째 과목 점수를 입력해주세요. 85\n",
            "세 과목의 평균 점수: 85.0\n"
          ]
        }
      ]
    },
    {
      "cell_type": "code",
      "source": [
        "#2.16\n",
        "t_sec = float(input('시간 값을 초 단위로 입력해주세요: '))\n",
        "hour =  t_sec // 3600\n",
        "minute = (t_sec // 60) % 60\n",
        "sec = t_sec % 60\n",
        "\n",
        "print('시 분 초는 다음과 같습니다.')\n",
        "print('시: ', hour)\n",
        "print('분: ', minute)\n",
        "print('초: ', sec)"
      ],
      "metadata": {
        "colab": {
          "base_uri": "https://localhost:8080/"
        },
        "id": "d_rD83zPHm0B",
        "outputId": "afebe839-b0df-4f52-c6e5-965a5f0c6dc3"
      },
      "execution_count": 14,
      "outputs": [
        {
          "output_type": "stream",
          "name": "stdout",
          "text": [
            "시간 값을 초 단위로 입력해주세요: 11730\n",
            "시 분 초는 다음과 같습니다.\n",
            "시:  3.0\n",
            "분:  15.0\n",
            "초:  30.0\n"
          ]
        }
      ]
    },
    {
      "cell_type": "code",
      "source": [],
      "metadata": {
        "id": "583X1IvGIobt"
      },
      "execution_count": null,
      "outputs": []
    }
  ]
}