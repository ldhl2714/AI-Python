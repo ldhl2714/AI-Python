{
  "nbformat": 4,
  "nbformat_minor": 0,
  "metadata": {
    "colab": {
      "provenance": [],
      "authorship_tag": "ABX9TyPJQ8rTgNTZwHzwBNP/ROY5",
      "include_colab_link": true
    },
    "kernelspec": {
      "name": "python3",
      "display_name": "Python 3"
    },
    "language_info": {
      "name": "python"
    }
  },
  "cells": [
    {
      "cell_type": "markdown",
      "metadata": {
        "id": "view-in-github",
        "colab_type": "text"
      },
      "source": [
        "<a href=\"https://colab.research.google.com/github/ldhl2714/AI-Python/blob/main/240104.ipynb\" target=\"_parent\"><img src=\"https://colab.research.google.com/assets/colab-badge.svg\" alt=\"Open In Colab\"/></a>"
      ]
    },
    {
      "cell_type": "code",
      "source": [
        "score=[]\n",
        "while True:\n",
        "  a = input()\n",
        "  if not a.isdigit():\n",
        "    break\n",
        "  else:\n",
        "    score.append(int(a))\n",
        "\n",
        "ave=sum(score) / len(score)\n",
        "print(\"입력데이터 출력:\", score)\n",
        "print(\"합계:\", sum(score))\n",
        "print(\"인원 수:\", len(score))\n",
        "print(\"평균:%5.3f\"%ave)"
      ],
      "metadata": {
        "colab": {
          "base_uri": "https://localhost:8080/"
        },
        "id": "APwp8jbidfCh",
        "outputId": "9cb96a27-8e8c-4706-c834-c9fe8111c387"
      },
      "execution_count": 43,
      "outputs": [
        {
          "output_type": "stream",
          "name": "stdout",
          "text": [
            "90\n",
            "70\n",
            "30\n",
            "\n",
            "입력데이터 출력: [90, 70, 30]\n",
            "합계: 190\n",
            "인원 수: 3\n",
            "평균:63.333\n"
          ]
        }
      ]
    }
  ]
}